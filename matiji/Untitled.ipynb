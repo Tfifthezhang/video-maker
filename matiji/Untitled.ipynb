{
 "cells": [
  {
   "cell_type": "code",
   "execution_count": 1,
   "id": "dc6efe23-08ed-4990-b5bc-3672e0279251",
   "metadata": {},
   "outputs": [
    {
     "name": "stdout",
     "output_type": "stream",
     "text": [
      "Manim Community \u001b[32mv0.\u001b[0m\u001b[32m15.1\u001b[0m\n",
      "\n",
      "\u001b[2;36m[09/13/22 08:51:24]\u001b[0m\u001b[2;36m \u001b[0m\u001b[32mINFO    \u001b[0m \u001b[1;33mWriting\u001b[0m y = \\lfloor          \u001b]8;id=648278;file:///usr/local/lib/python3.8/site-packages/manim/utils/tex_file_writing.py\u001b\\\u001b[2mtex_file_writing.py\u001b[0m\u001b]8;;\u001b\\\u001b[2m:\u001b[0m\u001b]8;id=900713;file:///usr/local/lib/python3.8/site-packages/manim/utils/tex_file_writing.py#87\u001b\\\u001b[2m87\u001b[0m\u001b]8;;\u001b\\\n",
      "\u001b[2;36m                    \u001b[0m         \\frac\u001b[1m{\u001b[0m\u001b[32m15\u001b[0m\u001b[1m}\u001b[0m\u001b[1m{\u001b[0mx\u001b[1m}\u001b[0m \\rfloor to medi \u001b[2m                      \u001b[0m\n",
      "\u001b[2;36m                    \u001b[0m         a/Tex/1b30f60211db17c5.tex   \u001b[2m                      \u001b[0m\n",
      "\u001b[2;36m[09/13/22 08:51:29]\u001b[0m\u001b[2;36m \u001b[0m\u001b[32mINFO    \u001b[0m Animation \u001b[32m0\u001b[0m : Partial      \u001b]8;id=165704;file:///usr/local/lib/python3.8/site-packages/manim/scene/scene_file_writer.py\u001b\\\u001b[2mscene_file_writer.py\u001b[0m\u001b]8;;\u001b\\\u001b[2m:\u001b[0m\u001b]8;id=221318;file:///usr/local/lib/python3.8/site-packages/manim/scene/scene_file_writer.py#500\u001b\\\u001b[2m500\u001b[0m\u001b]8;;\u001b\\\n",
      "\u001b[2;36m                    \u001b[0m         movie file written in \u001b[32m'/ma\u001b[0m \u001b[2m                        \u001b[0m\n",
      "\u001b[2;36m                    \u001b[0m         \u001b[32mnim/matiji/media/videos/fu\u001b[0m \u001b[2m                        \u001b[0m\n",
      "\u001b[2;36m                    \u001b[0m         \u001b[32mbini_theorem/1080p60/parti\u001b[0m \u001b[2m                        \u001b[0m\n",
      "\u001b[2;36m                    \u001b[0m         \u001b[32mal_movie_files/Fubini_func\u001b[0m \u001b[2m                        \u001b[0m\n",
      "\u001b[2;36m                    \u001b[0m         \u001b[32mtion/450974505_2718979239_\u001b[0m \u001b[2m                        \u001b[0m\n",
      "\u001b[2;36m                    \u001b[0m         \u001b[32m223132457.mp4'\u001b[0m             \u001b[2m                        \u001b[0m\n",
      "\u001b[2;36m[09/13/22 08:51:31]\u001b[0m\u001b[2;36m \u001b[0m\u001b[32mINFO    \u001b[0m Animation \u001b[32m1\u001b[0m : Partial      \u001b]8;id=798502;file:///usr/local/lib/python3.8/site-packages/manim/scene/scene_file_writer.py\u001b\\\u001b[2mscene_file_writer.py\u001b[0m\u001b]8;;\u001b\\\u001b[2m:\u001b[0m\u001b]8;id=707057;file:///usr/local/lib/python3.8/site-packages/manim/scene/scene_file_writer.py#500\u001b\\\u001b[2m500\u001b[0m\u001b]8;;\u001b\\\n",
      "\u001b[2;36m                    \u001b[0m         movie file written in \u001b[32m'/ma\u001b[0m \u001b[2m                        \u001b[0m\n",
      "\u001b[2;36m                    \u001b[0m         \u001b[32mnim/matiji/media/videos/fu\u001b[0m \u001b[2m                        \u001b[0m\n",
      "\u001b[2;36m                    \u001b[0m         \u001b[32mbini_theorem/1080p60/parti\u001b[0m \u001b[2m                        \u001b[0m\n",
      "\u001b[2;36m                    \u001b[0m         \u001b[32mal_movie_files/Fubini_func\u001b[0m \u001b[2m                        \u001b[0m\n",
      "\u001b[2;36m                    \u001b[0m         \u001b[32mtion/34786186_735655947_22\u001b[0m \u001b[2m                        \u001b[0m\n",
      "\u001b[2;36m                    \u001b[0m         \u001b[32m78306253.mp4'\u001b[0m              \u001b[2m                        \u001b[0m\n",
      "\u001b[2;36m[09/13/22 08:51:35]\u001b[0m\u001b[2;36m \u001b[0m\u001b[32mINFO    \u001b[0m Animation \u001b[32m2\u001b[0m : Partial      \u001b]8;id=86380;file:///usr/local/lib/python3.8/site-packages/manim/scene/scene_file_writer.py\u001b\\\u001b[2mscene_file_writer.py\u001b[0m\u001b]8;;\u001b\\\u001b[2m:\u001b[0m\u001b]8;id=249265;file:///usr/local/lib/python3.8/site-packages/manim/scene/scene_file_writer.py#500\u001b\\\u001b[2m500\u001b[0m\u001b]8;;\u001b\\\n",
      "\u001b[2;36m                    \u001b[0m         movie file written in \u001b[32m'/ma\u001b[0m \u001b[2m                        \u001b[0m\n",
      "\u001b[2;36m                    \u001b[0m         \u001b[32mnim/matiji/media/videos/fu\u001b[0m \u001b[2m                        \u001b[0m\n",
      "\u001b[2;36m                    \u001b[0m         \u001b[32mbini_theorem/1080p60/parti\u001b[0m \u001b[2m                        \u001b[0m\n",
      "\u001b[2;36m                    \u001b[0m         \u001b[32mal_movie_files/Fubini_func\u001b[0m \u001b[2m                        \u001b[0m\n",
      "\u001b[2;36m                    \u001b[0m         \u001b[32mtion/34786186_3566956883_3\u001b[0m \u001b[2m                        \u001b[0m\n",
      "\u001b[2;36m                    \u001b[0m         \u001b[32m466865329.mp4'\u001b[0m             \u001b[2m                        \u001b[0m\n",
      "\u001b[2;36m                   \u001b[0m\u001b[2;36m \u001b[0m\u001b[32mINFO    \u001b[0m Combining to Movie file.   \u001b]8;id=84380;file:///usr/local/lib/python3.8/site-packages/manim/scene/scene_file_writer.py\u001b\\\u001b[2mscene_file_writer.py\u001b[0m\u001b]8;;\u001b\\\u001b[2m:\u001b[0m\u001b]8;id=46694;file:///usr/local/lib/python3.8/site-packages/manim/scene/scene_file_writer.py#594\u001b\\\u001b[2m594\u001b[0m\u001b]8;;\u001b\\\n",
      "\u001b[2;36m                   \u001b[0m\u001b[2;36m \u001b[0m\u001b[32mINFO    \u001b[0m                            \u001b]8;id=997301;file:///usr/local/lib/python3.8/site-packages/manim/scene/scene_file_writer.py\u001b\\\u001b[2mscene_file_writer.py\u001b[0m\u001b]8;;\u001b\\\u001b[2m:\u001b[0m\u001b]8;id=716357;file:///usr/local/lib/python3.8/site-packages/manim/scene/scene_file_writer.py#715\u001b\\\u001b[2m715\u001b[0m\u001b]8;;\u001b\\\n",
      "\u001b[2;36m                    \u001b[0m         \u001b[1;33mFile\u001b[0m ready at \u001b[32m'/manim/mati\u001b[0m \u001b[2m                        \u001b[0m\n",
      "\u001b[2;36m                    \u001b[0m         \u001b[32mji/media/videos/fubini_the\u001b[0m \u001b[2m                        \u001b[0m\n",
      "\u001b[2;36m                    \u001b[0m         \u001b[32morem/1080p60/Fubini_functi\u001b[0m \u001b[2m                        \u001b[0m\n",
      "\u001b[2;36m                    \u001b[0m         \u001b[32mon.mp4'\u001b[0m                    \u001b[2m                        \u001b[0m\n",
      "\u001b[2;36m                    \u001b[0m                                    \u001b[2m                        \u001b[0m\n",
      "\u001b[2;36m                   \u001b[0m\u001b[2;36m \u001b[0m\u001b[32mINFO    \u001b[0m \u001b[1;33mRendered\u001b[0m Fubini_function               \u001b]8;id=614435;file:///usr/local/lib/python3.8/site-packages/manim/scene/scene.py\u001b\\\u001b[2mscene.py\u001b[0m\u001b]8;;\u001b\\\u001b[2m:\u001b[0m\u001b]8;id=739345;file:///usr/local/lib/python3.8/site-packages/manim/scene/scene.py#240\u001b\\\u001b[2m240\u001b[0m\u001b]8;;\u001b\\\n",
      "\u001b[2;36m                    \u001b[0m         \u001b[1;33mPlayed\u001b[0m \u001b[32m3\u001b[0m \u001b[1;33manimations\u001b[0m                    \u001b[2m            \u001b[0m\n",
      "You are using manim version \u001b[31mv0.\u001b[0m\u001b[31m15.1\u001b[0m, but version \u001b[32mv0.\u001b[0m\u001b[32m16.0\u001b[0m\u001b[32m.post0\u001b[0m is available.\n",
      "You should consider upgrading via \u001b[33mpip install -U manim\u001b[0m\n"
     ]
    }
   ],
   "source": [
    "! manim -qh fubini_theorem.py Fubini_function"
   ]
  },
  {
   "cell_type": "code",
   "execution_count": null,
   "id": "cad7ef23-96ea-4558-a2ae-bd692b0bb79d",
   "metadata": {},
   "outputs": [],
   "source": []
  }
 ],
 "metadata": {
  "kernelspec": {
   "display_name": "Python 3 (ipykernel)",
   "language": "python",
   "name": "python3"
  },
  "language_info": {
   "codemirror_mode": {
    "name": "ipython",
    "version": 3
   },
   "file_extension": ".py",
   "mimetype": "text/x-python",
   "name": "python",
   "nbconvert_exporter": "python",
   "pygments_lexer": "ipython3",
   "version": "3.8.12"
  }
 },
 "nbformat": 4,
 "nbformat_minor": 5
}
