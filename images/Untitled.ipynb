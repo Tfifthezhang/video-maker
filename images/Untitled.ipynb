{
 "cells": [
  {
   "cell_type": "code",
   "execution_count": null,
   "id": "90f9acf3-5187-4dd8-bf9d-7ac8cb158e57",
   "metadata": {},
   "outputs": [
    {
     "data": {
      "text/html": [
       "<pre style=\"white-space:pre;overflow-x:auto;line-height:normal;font-family:Menlo,'DejaVu Sans Mono',consolas,'Courier New',monospace\">/usr/local/lib/python3.8/site-packages/rich/live.py:221: UserWarning: install \"ipywidgets\" \n",
       "for Jupyter support\n",
       "  warnings.warn('install \"ipywidgets\" for Jupyter support')\n",
       "</pre>\n"
      ],
      "text/plain": [
       "/usr/local/lib/python3.8/site-packages/rich/live.py:221: UserWarning: install \"ipywidgets\" \n",
       "for Jupyter support\n",
       "  warnings.warn('install \"ipywidgets\" for Jupyter support')\n"
      ]
     },
     "metadata": {},
     "output_type": "display_data"
    }
   ],
   "source": [
    "import numpy as np\n",
    "import perfplot\n",
    "\n",
    "perfplot.show(\n",
    "    setup=lambda n: np.random.rand(n),  # or setup=np.random.rand\n",
    "    kernels=[\n",
    "        lambda a: np.c_[a, a],\n",
    "        lambda a: np.stack([a, a]).T,\n",
    "        lambda a: np.vstack([a, a]).T,\n",
    "        lambda a: np.column_stack([a, a]),\n",
    "        lambda a: np.concatenate([a[:, None], a[:, None]], axis=1),\n",
    "    ],\n",
    "    labels=[\"c_\", \"stack\", \"vstack\", \"column_stack\", \"concat\"],\n",
    "    n_range=[2**k for k in range(25)],\n",
    "    xlabel=\"len(a)\",\n",
    "    # More optional arguments with their default values:\n",
    "    # logx=\"auto\",  # set to True or False to force scaling\n",
    "    # logy=\"auto\",\n",
    "    # equality_check=np.allclose,  # set to None to disable \"correctness\" assertion\n",
    "    # show_progress=True,\n",
    "    # target_time_per_measurement=1.0,\n",
    "    # max_time=None,  # maximum time per measurement\n",
    "    # time_unit=\"s\",  # set to one of (\"auto\", \"s\", \"ms\", \"us\", or \"ns\") to force plot units\n",
    "    # relative_to=1,  # plot the timings relative to one of the measurements\n",
    "    # flops=lambda n: 3*n,  # FLOPS plots\n",
    ")"
   ]
  },
  {
   "cell_type": "code",
   "execution_count": null,
   "id": "1108cfd8-bb84-4a9a-95ab-5a2972a91d86",
   "metadata": {},
   "outputs": [],
   "source": []
  }
 ],
 "metadata": {
  "kernelspec": {
   "display_name": "Python 3 (ipykernel)",
   "language": "python",
   "name": "python3"
  },
  "language_info": {
   "codemirror_mode": {
    "name": "ipython",
    "version": 3
   },
   "file_extension": ".py",
   "mimetype": "text/x-python",
   "name": "python",
   "nbconvert_exporter": "python",
   "pygments_lexer": "ipython3",
   "version": "3.8.13"
  }
 },
 "nbformat": 4,
 "nbformat_minor": 5
}
