{
 "cells": [
  {
   "cell_type": "code",
   "execution_count": 3,
   "id": "ccce61d9-7981-428e-8165-a5a57df4f77e",
   "metadata": {},
   "outputs": [
    {
     "name": "stdout",
     "output_type": "stream",
     "text": [
      "Manim Community \u001b[32mv0.\u001b[0m\u001b[32m15.1\u001b[0m\n",
      "\n",
      "\u001b[2;36m[04/22/22 08:04:03]\u001b[0m\u001b[2;36m \u001b[0m\u001b[32mINFO    \u001b[0m Animation \u001b[32m0\u001b[0m : Partial      \u001b]8;id=839056;file:///usr/local/lib/python3.8/site-packages/manim/scene/scene_file_writer.py\u001b\\\u001b[2mscene_file_writer.py\u001b[0m\u001b]8;;\u001b\\\u001b[2m:\u001b[0m\u001b]8;id=701174;file:///usr/local/lib/python3.8/site-packages/manim/scene/scene_file_writer.py#500\u001b\\\u001b[2m500\u001b[0m\u001b]8;;\u001b\\\n",
      "\u001b[2;36m                    \u001b[0m         movie file written in \u001b[32m'/ma\u001b[0m \u001b[2m                        \u001b[0m\n",
      "\u001b[2;36m                    \u001b[0m         \u001b[32mnim/media/videos/graphcame\u001b[0m \u001b[2m                        \u001b[0m\n",
      "\u001b[2;36m                    \u001b[0m         \u001b[32mra/1080p60/partial_movie_f\u001b[0m \u001b[2m                        \u001b[0m\n",
      "\u001b[2;36m                    \u001b[0m         \u001b[32miles/FollowingGraphCamera/\u001b[0m \u001b[2m                        \u001b[0m\n",
      "\u001b[2;36m                    \u001b[0m         \u001b[32m426039979_667641612_327531\u001b[0m \u001b[2m                        \u001b[0m\n",
      "\u001b[2;36m                    \u001b[0m         \u001b[32m3169.mp4'\u001b[0m                  \u001b[2m                        \u001b[0m\n",
      "\u001b[2;36m[04/22/22 08:04:05]\u001b[0m\u001b[2;36m \u001b[0m\u001b[32mINFO    \u001b[0m Animation \u001b[32m1\u001b[0m : Partial      \u001b]8;id=978038;file:///usr/local/lib/python3.8/site-packages/manim/scene/scene_file_writer.py\u001b\\\u001b[2mscene_file_writer.py\u001b[0m\u001b]8;;\u001b\\\u001b[2m:\u001b[0m\u001b]8;id=964765;file:///usr/local/lib/python3.8/site-packages/manim/scene/scene_file_writer.py#500\u001b\\\u001b[2m500\u001b[0m\u001b]8;;\u001b\\\n",
      "\u001b[2;36m                    \u001b[0m         movie file written in \u001b[32m'/ma\u001b[0m \u001b[2m                        \u001b[0m\n",
      "\u001b[2;36m                    \u001b[0m         \u001b[32mnim/media/videos/graphcame\u001b[0m \u001b[2m                        \u001b[0m\n",
      "\u001b[2;36m                    \u001b[0m         \u001b[32mra/1080p60/partial_movie_f\u001b[0m \u001b[2m                        \u001b[0m\n",
      "\u001b[2;36m                    \u001b[0m         \u001b[32miles/FollowingGraphCamera/\u001b[0m \u001b[2m                        \u001b[0m\n",
      "\u001b[2;36m                    \u001b[0m         \u001b[32m3370460158_2023475271_1242\u001b[0m \u001b[2m                        \u001b[0m\n",
      "\u001b[2;36m                    \u001b[0m         \u001b[32m585086.mp4'\u001b[0m                \u001b[2m                        \u001b[0m\n",
      "\u001b[2;36m[04/22/22 08:04:07]\u001b[0m\u001b[2;36m \u001b[0m\u001b[32mINFO    \u001b[0m Animation \u001b[32m2\u001b[0m : Partial      \u001b]8;id=65380;file:///usr/local/lib/python3.8/site-packages/manim/scene/scene_file_writer.py\u001b\\\u001b[2mscene_file_writer.py\u001b[0m\u001b]8;;\u001b\\\u001b[2m:\u001b[0m\u001b]8;id=930939;file:///usr/local/lib/python3.8/site-packages/manim/scene/scene_file_writer.py#500\u001b\\\u001b[2m500\u001b[0m\u001b]8;;\u001b\\\n",
      "\u001b[2;36m                    \u001b[0m         movie file written in \u001b[32m'/ma\u001b[0m \u001b[2m                        \u001b[0m\n",
      "\u001b[2;36m                    \u001b[0m         \u001b[32mnim/media/videos/graphcame\u001b[0m \u001b[2m                        \u001b[0m\n",
      "\u001b[2;36m                    \u001b[0m         \u001b[32mra/1080p60/partial_movie_f\u001b[0m \u001b[2m                        \u001b[0m\n",
      "\u001b[2;36m                    \u001b[0m         \u001b[32miles/FollowingGraphCamera/\u001b[0m \u001b[2m                        \u001b[0m\n",
      "\u001b[2;36m                    \u001b[0m         \u001b[32m1134335207_1696437012_2336\u001b[0m \u001b[2m                        \u001b[0m\n",
      "\u001b[2;36m                    \u001b[0m         \u001b[32m425785.mp4'\u001b[0m                \u001b[2m                        \u001b[0m\n",
      "\u001b[2;36m                   \u001b[0m\u001b[2;36m \u001b[0m\u001b[32mINFO    \u001b[0m Combining to Movie file.   \u001b]8;id=872267;file:///usr/local/lib/python3.8/site-packages/manim/scene/scene_file_writer.py\u001b\\\u001b[2mscene_file_writer.py\u001b[0m\u001b]8;;\u001b\\\u001b[2m:\u001b[0m\u001b]8;id=477834;file:///usr/local/lib/python3.8/site-packages/manim/scene/scene_file_writer.py#594\u001b\\\u001b[2m594\u001b[0m\u001b]8;;\u001b\\\n",
      "\u001b[2;36m                   \u001b[0m\u001b[2;36m \u001b[0m\u001b[32mINFO    \u001b[0m                            \u001b]8;id=95051;file:///usr/local/lib/python3.8/site-packages/manim/scene/scene_file_writer.py\u001b\\\u001b[2mscene_file_writer.py\u001b[0m\u001b]8;;\u001b\\\u001b[2m:\u001b[0m\u001b]8;id=431064;file:///usr/local/lib/python3.8/site-packages/manim/scene/scene_file_writer.py#715\u001b\\\u001b[2m715\u001b[0m\u001b]8;;\u001b\\\n",
      "\u001b[2;36m                    \u001b[0m         \u001b[1;33mFile\u001b[0m ready at \u001b[32m'/manim/medi\u001b[0m \u001b[2m                        \u001b[0m\n",
      "\u001b[2;36m                    \u001b[0m         \u001b[32ma/videos/graphcamera/1080p\u001b[0m \u001b[2m                        \u001b[0m\n",
      "\u001b[2;36m                    \u001b[0m         \u001b[32m60/FollowingGraphCamera.mp\u001b[0m \u001b[2m                        \u001b[0m\n",
      "\u001b[2;36m                    \u001b[0m         \u001b[32m4'\u001b[0m                         \u001b[2m                        \u001b[0m\n",
      "\u001b[2;36m                    \u001b[0m                                    \u001b[2m                        \u001b[0m\n",
      "\u001b[2;36m                   \u001b[0m\u001b[2;36m \u001b[0m\u001b[32mINFO    \u001b[0m \u001b[1;33mRendered\u001b[0m FollowingGraphCamera          \u001b]8;id=551919;file:///usr/local/lib/python3.8/site-packages/manim/scene/scene.py\u001b\\\u001b[2mscene.py\u001b[0m\u001b]8;;\u001b\\\u001b[2m:\u001b[0m\u001b]8;id=554927;file:///usr/local/lib/python3.8/site-packages/manim/scene/scene.py#240\u001b\\\u001b[2m240\u001b[0m\u001b]8;;\u001b\\\n",
      "\u001b[2;36m                    \u001b[0m         \u001b[1;33mPlayed\u001b[0m \u001b[32m3\u001b[0m \u001b[1;33manimations\u001b[0m                    \u001b[2m            \u001b[0m\n"
     ]
    }
   ],
   "source": [
    "!manim -qh graphcamera.py FollowingGraphCamera"
   ]
  },
  {
   "cell_type": "code",
   "execution_count": null,
   "id": "3f1ba8b0-7bf0-463d-98ee-a8276de8cea0",
   "metadata": {},
   "outputs": [],
   "source": []
  }
 ],
 "metadata": {
  "kernelspec": {
   "display_name": "Python 3 (ipykernel)",
   "language": "python",
   "name": "python3"
  },
  "language_info": {
   "codemirror_mode": {
    "name": "ipython",
    "version": 3
   },
   "file_extension": ".py",
   "mimetype": "text/x-python",
   "name": "python",
   "nbconvert_exporter": "python",
   "pygments_lexer": "ipython3",
   "version": "3.8.12"
  }
 },
 "nbformat": 4,
 "nbformat_minor": 5
}
