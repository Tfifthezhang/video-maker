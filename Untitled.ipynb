{
 "cells": [
  {
   "cell_type": "code",
   "execution_count": 4,
   "id": "ccce61d9-7981-428e-8165-a5a57df4f77e",
   "metadata": {},
   "outputs": [
    {
     "name": "stdout",
     "output_type": "stream",
     "text": [
      "Manim Community \u001b[32mv0.\u001b[0m\u001b[32m15.2\u001b[0m\n",
      "\n",
      "\u001b[2;36m[04/27/22 08:18:24]\u001b[0m\u001b[2;36m \u001b[0m\u001b[32mINFO    \u001b[0m                            \u001b]8;id=718191;file:///usr/local/lib/python3.8/site-packages/manim/scene/scene_file_writer.py\u001b\\\u001b[2mscene_file_writer.py\u001b[0m\u001b]8;;\u001b\\\u001b[2m:\u001b[0m\u001b]8;id=462931;file:///usr/local/lib/python3.8/site-packages/manim/scene/scene_file_writer.py#718\u001b\\\u001b[2m718\u001b[0m\u001b]8;;\u001b\\\n",
      "\u001b[2;36m                    \u001b[0m         \u001b[1;33mFile\u001b[0m ready at \u001b[32m'/manim/medi\u001b[0m \u001b[2m                        \u001b[0m\n",
      "\u001b[2;36m                    \u001b[0m         \u001b[32ma/images/shape/MultipleFon\u001b[0m \u001b[2m                        \u001b[0m\n",
      "\u001b[2;36m                    \u001b[0m         \u001b[32mts_ManimCE_v0.15.2.png'\u001b[0m    \u001b[2m                        \u001b[0m\n",
      "\u001b[2;36m                    \u001b[0m                                    \u001b[2m                        \u001b[0m\n",
      "\u001b[2;36m                   \u001b[0m\u001b[2;36m \u001b[0m\u001b[32mINFO    \u001b[0m \u001b[1;33mRendered\u001b[0m MultipleFonts                 \u001b]8;id=819664;file:///usr/local/lib/python3.8/site-packages/manim/scene/scene.py\u001b\\\u001b[2mscene.py\u001b[0m\u001b]8;;\u001b\\\u001b[2m:\u001b[0m\u001b]8;id=656016;file:///usr/local/lib/python3.8/site-packages/manim/scene/scene.py#240\u001b\\\u001b[2m240\u001b[0m\u001b]8;;\u001b\\\n",
      "\u001b[2;36m                    \u001b[0m         \u001b[1;33mPlayed\u001b[0m \u001b[32m0\u001b[0m \u001b[1;33manimations\u001b[0m                    \u001b[2m            \u001b[0m\n"
     ]
    }
   ],
   "source": [
    "!manim -qh shape.py MultipleFonts"
   ]
  },
  {
   "cell_type": "code",
   "execution_count": null,
   "id": "3f1ba8b0-7bf0-463d-98ee-a8276de8cea0",
   "metadata": {},
   "outputs": [],
   "source": []
  }
 ],
 "metadata": {
  "kernelspec": {
   "display_name": "Python 3 (ipykernel)",
   "language": "python",
   "name": "python3"
  },
  "language_info": {
   "codemirror_mode": {
    "name": "ipython",
    "version": 3
   },
   "file_extension": ".py",
   "mimetype": "text/x-python",
   "name": "python",
   "nbconvert_exporter": "python",
   "pygments_lexer": "ipython3",
   "version": "3.8.13"
  }
 },
 "nbformat": 4,
 "nbformat_minor": 5
}
