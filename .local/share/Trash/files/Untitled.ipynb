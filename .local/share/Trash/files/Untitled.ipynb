{
 "cells": [
  {
   "cell_type": "code",
   "execution_count": 3,
   "id": "1dd215fb-4069-4d78-a79c-60507fd675a6",
   "metadata": {},
   "outputs": [
    {
     "name": "stdout",
     "output_type": "stream",
     "text": [
      "Manim Community \u001b[32mv0.\u001b[0m\u001b[32m15.1\u001b[0m\n",
      "\n",
      "Traceback (most recent call last):\n",
      "  File \"/usr/local/bin/manim\", line 8, in <module>\n",
      "    sys.exit(main())\n",
      "  File \"/usr/local/lib/python3.8/site-packages/click/core.py\", line 1128, in __call__\n",
      "    return self.main(*args, **kwargs)\n",
      "  File \"/usr/local/lib/python3.8/site-packages/click/core.py\", line 1053, in main\n",
      "    rv = self.invoke(ctx)\n",
      "  File \"/usr/local/lib/python3.8/site-packages/click/core.py\", line 1659, in invoke\n",
      "    return _process_result(sub_ctx.command.invoke(sub_ctx))\n",
      "  File \"/usr/local/lib/python3.8/site-packages/click/core.py\", line 1395, in invoke\n",
      "    return ctx.invoke(self.callback, **ctx.params)\n",
      "  File \"/usr/local/lib/python3.8/site-packages/click/core.py\", line 754, in invoke\n",
      "    return __callback(*args, **kwargs)\n",
      "  File \"/usr/local/lib/python3.8/site-packages/manim/cli/render/commands.py\", line 138, in render\n",
      "    for SceneClass in scene_classes_from_file(file):\n",
      "  File \"/usr/local/lib/python3.8/site-packages/manim/utils/module_ops.py\", line 127, in scene_classes_from_file\n",
      "    module = get_module(file_path)\n",
      "  File \"/usr/local/lib/python3.8/site-packages/manim/utils/module_ops.py\", line 52, in get_module\n",
      "    spec.loader.exec_module(module)\n",
      "  File \"<frozen importlib._bootstrap_external>\", line 843, in exec_module\n",
      "  File \"<frozen importlib._bootstrap>\", line 219, in _call_with_frames_removed\n",
      "  File \"/manim/sir.py\", line 1, in <module>\n",
      "    from manim_imports_ext import *\n",
      "ModuleNotFoundError: No module named 'manim_imports_ext'\n"
     ]
    }
   ],
   "source": [
    "!manim -pqh sir.py SIRSimulation"
   ]
  },
  {
   "cell_type": "code",
   "execution_count": null,
   "id": "00b81967-2fc1-4e6a-9bef-d8a5ddb214fc",
   "metadata": {},
   "outputs": [],
   "source": []
  }
 ],
 "metadata": {
  "kernelspec": {
   "display_name": "Python 3 (ipykernel)",
   "language": "python",
   "name": "python3"
  },
  "language_info": {
   "codemirror_mode": {
    "name": "ipython",
    "version": 3
   },
   "file_extension": ".py",
   "mimetype": "text/x-python",
   "name": "python",
   "nbconvert_exporter": "python",
   "pygments_lexer": "ipython3",
   "version": "3.8.12"
  }
 },
 "nbformat": 4,
 "nbformat_minor": 5
}
