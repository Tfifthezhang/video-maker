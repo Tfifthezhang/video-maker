{
 "cells": [
  {
   "cell_type": "code",
   "execution_count": 25,
   "id": "d9a00187-a130-4c67-b9af-8b32335625c9",
   "metadata": {},
   "outputs": [
    {
     "name": "stdout",
     "output_type": "stream",
     "text": [
      "Manim Community \u001b[32mv0.\u001b[0m\u001b[32m15.1\u001b[0m\n",
      "\n",
      "\u001b[2;36m[07/28/22 06:13:25]\u001b[0m\u001b[2;36m \u001b[0m\u001b[32mINFO    \u001b[0m Animation \u001b[32m0\u001b[0m : Using cached     \u001b]8;id=82250;file:///usr/local/lib/python3.8/site-packages/manim/renderer/cairo_renderer.py\u001b\\\u001b[2mcairo_renderer.py\u001b[0m\u001b]8;;\u001b\\\u001b[2m:\u001b[0m\u001b]8;id=841255;file:///usr/local/lib/python3.8/site-packages/manim/renderer/cairo_renderer.py#75\u001b\\\u001b[2m75\u001b[0m\u001b]8;;\u001b\\\n",
      "\u001b[2;36m                    \u001b[0m         data \u001b[1m(\u001b[0mhash : 450974505_1262725 \u001b[2m                    \u001b[0m\n",
      "\u001b[2;36m                    \u001b[0m         525_223132457\u001b[1m)\u001b[0m                 \u001b[2m                    \u001b[0m\n",
      "\u001b[2;36m                   \u001b[0m\u001b[2;36m \u001b[0m\u001b[32mINFO    \u001b[0m Animation \u001b[32m1\u001b[0m : Using cached     \u001b]8;id=683029;file:///usr/local/lib/python3.8/site-packages/manim/renderer/cairo_renderer.py\u001b\\\u001b[2mcairo_renderer.py\u001b[0m\u001b]8;;\u001b\\\u001b[2m:\u001b[0m\u001b]8;id=132205;file:///usr/local/lib/python3.8/site-packages/manim/renderer/cairo_renderer.py#75\u001b\\\u001b[2m75\u001b[0m\u001b]8;;\u001b\\\n",
      "\u001b[2;36m                    \u001b[0m         data \u001b[1m(\u001b[0mhash : 34786186_22431174 \u001b[2m                    \u001b[0m\n",
      "\u001b[2;36m                    \u001b[0m         78_2334220719\u001b[1m)\u001b[0m                 \u001b[2m                    \u001b[0m\n",
      "\u001b[2;36m[07/28/22 06:13:27]\u001b[0m\u001b[2;36m \u001b[0m\u001b[32mINFO    \u001b[0m Animation \u001b[32m2\u001b[0m : Partial      \u001b]8;id=768602;file:///usr/local/lib/python3.8/site-packages/manim/scene/scene_file_writer.py\u001b\\\u001b[2mscene_file_writer.py\u001b[0m\u001b]8;;\u001b\\\u001b[2m:\u001b[0m\u001b]8;id=340317;file:///usr/local/lib/python3.8/site-packages/manim/scene/scene_file_writer.py#500\u001b\\\u001b[2m500\u001b[0m\u001b]8;;\u001b\\\n",
      "\u001b[2;36m                    \u001b[0m         movie file written in \u001b[32m'/ma\u001b[0m \u001b[2m                        \u001b[0m\n",
      "\u001b[2;36m                    \u001b[0m         \u001b[32mnim/media/videos/binary_ex\u001b[0m \u001b[2m                        \u001b[0m\n",
      "\u001b[2;36m                    \u001b[0m         \u001b[32mponentiation/1080p60/parti\u001b[0m \u001b[2m                        \u001b[0m\n",
      "\u001b[2;36m                    \u001b[0m         \u001b[32mal_movie_files/Poly/347861\u001b[0m \u001b[2m                        \u001b[0m\n",
      "\u001b[2;36m                    \u001b[0m         \u001b[32m86_3660105220_2391462496.m\u001b[0m \u001b[2m                        \u001b[0m\n",
      "\u001b[2;36m                    \u001b[0m         \u001b[32mp4'\u001b[0m                        \u001b[2m                        \u001b[0m\n",
      "\u001b[2;36m                   \u001b[0m\u001b[2;36m \u001b[0m\u001b[32mINFO    \u001b[0m Combining to Movie file.   \u001b]8;id=328823;file:///usr/local/lib/python3.8/site-packages/manim/scene/scene_file_writer.py\u001b\\\u001b[2mscene_file_writer.py\u001b[0m\u001b]8;;\u001b\\\u001b[2m:\u001b[0m\u001b]8;id=91181;file:///usr/local/lib/python3.8/site-packages/manim/scene/scene_file_writer.py#594\u001b\\\u001b[2m594\u001b[0m\u001b]8;;\u001b\\\n",
      "\u001b[2;36m                   \u001b[0m\u001b[2;36m \u001b[0m\u001b[32mINFO    \u001b[0m                            \u001b]8;id=994739;file:///usr/local/lib/python3.8/site-packages/manim/scene/scene_file_writer.py\u001b\\\u001b[2mscene_file_writer.py\u001b[0m\u001b]8;;\u001b\\\u001b[2m:\u001b[0m\u001b]8;id=757954;file:///usr/local/lib/python3.8/site-packages/manim/scene/scene_file_writer.py#715\u001b\\\u001b[2m715\u001b[0m\u001b]8;;\u001b\\\n",
      "\u001b[2;36m                    \u001b[0m         \u001b[1;33mFile\u001b[0m ready at \u001b[32m'/manim/medi\u001b[0m \u001b[2m                        \u001b[0m\n",
      "\u001b[2;36m                    \u001b[0m         \u001b[32ma/videos/binary_exponentia\u001b[0m \u001b[2m                        \u001b[0m\n",
      "\u001b[2;36m                    \u001b[0m         \u001b[32mtion/1080p60/Poly.mp4'\u001b[0m     \u001b[2m                        \u001b[0m\n",
      "\u001b[2;36m                    \u001b[0m                                    \u001b[2m                        \u001b[0m\n",
      "\u001b[2;36m                   \u001b[0m\u001b[2;36m \u001b[0m\u001b[32mINFO    \u001b[0m \u001b[1;33mRendered\u001b[0m Poly                          \u001b]8;id=664689;file:///usr/local/lib/python3.8/site-packages/manim/scene/scene.py\u001b\\\u001b[2mscene.py\u001b[0m\u001b]8;;\u001b\\\u001b[2m:\u001b[0m\u001b]8;id=286606;file:///usr/local/lib/python3.8/site-packages/manim/scene/scene.py#240\u001b\\\u001b[2m240\u001b[0m\u001b]8;;\u001b\\\n",
      "\u001b[2;36m                    \u001b[0m         \u001b[1;33mPlayed\u001b[0m \u001b[32m3\u001b[0m \u001b[1;33manimations\u001b[0m                    \u001b[2m            \u001b[0m\n",
      "You are using manim version \u001b[31mv0.\u001b[0m\u001b[31m15.1\u001b[0m, but version \u001b[32mv0.\u001b[0m\u001b[32m16.0\u001b[0m\u001b[32m.post0\u001b[0m is available.\n",
      "You should consider upgrading via \u001b[33mpip install -U manim\u001b[0m\n"
     ]
    }
   ],
   "source": [
    "!manim -qh matiji/binary_exponentiation.py Poly"
   ]
  },
  {
   "cell_type": "code",
   "execution_count": null,
   "id": "e4e56648-64e7-441b-a1af-7b8a903e9f45",
   "metadata": {},
   "outputs": [],
   "source": []
  }
 ],
 "metadata": {
  "kernelspec": {
   "display_name": "Python 3 (ipykernel)",
   "language": "python",
   "name": "python3"
  },
  "language_info": {
   "codemirror_mode": {
    "name": "ipython",
    "version": 3
   },
   "file_extension": ".py",
   "mimetype": "text/x-python",
   "name": "python",
   "nbconvert_exporter": "python",
   "pygments_lexer": "ipython3",
   "version": "3.8.12"
  }
 },
 "nbformat": 4,
 "nbformat_minor": 5
}
