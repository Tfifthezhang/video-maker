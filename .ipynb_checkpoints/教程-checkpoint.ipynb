{
 "cells": [
  {
   "cell_type": "markdown",
   "id": "8c009fbd-7a5c-42bf-8058-17abb2a1bc02",
   "metadata": {},
   "source": [
    "# 插入SVG\n",
    "\n",
    "svg = SVGMobject('coin.svg',color = BLUE,stroke_width = 5.00)\n",
    "## 添加动画效果\n",
    "self.play(Uncreate(svg))\n"
   ]
  }
 ],
 "metadata": {
  "kernelspec": {
   "display_name": "Python 3 (ipykernel)",
   "language": "python",
   "name": "python3"
  },
  "language_info": {
   "codemirror_mode": {
    "name": "ipython",
    "version": 3
   },
   "file_extension": ".py",
   "mimetype": "text/x-python",
   "name": "python",
   "nbconvert_exporter": "python",
   "pygments_lexer": "ipython3",
   "version": "3.8.12"
  }
 },
 "nbformat": 4,
 "nbformat_minor": 5
}
